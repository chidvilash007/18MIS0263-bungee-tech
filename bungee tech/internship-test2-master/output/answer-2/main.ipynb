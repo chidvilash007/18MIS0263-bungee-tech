{
 "cells": [
  {
   "cell_type": "code",
   "execution_count": 1,
   "id": "a4e2253a",
   "metadata": {},
   "outputs": [],
   "source": [
    "import pandas as pd\n"
   ]
  },
  {
   "cell_type": "code",
   "execution_count": 7,
   "id": "6634f97e",
   "metadata": {},
   "outputs": [],
   "source": []
  },
  {
   "cell_type": "code",
   "execution_count": 9,
   "id": "681fe021",
   "metadata": {},
   "outputs": [],
   "source": [
    "data = pd.read_csv('main.csv')\n"
   ]
  },
  {
   "cell_type": "code",
   "execution_count": 14,
   "id": "794fca7f",
   "metadata": {},
   "outputs": [],
   "source": [
    "\n",
    "data[\"sales_amount\"] = data[\"sales_quantity\"].where(data[\"unit\"] != \"pcs\",data[\"product_description\"].str.split(\"-\",expand = True)[1].astype(\"float\")* \\\n",
    "    data[\"sales_quantity\"]\n",
    "    )"
   ]
  },
  {
   "cell_type": "code",
   "execution_count": 15,
   "id": "b946d2db",
   "metadata": {},
   "outputs": [
    {
     "data": {
      "text/html": [
       "<div>\n",
       "<style scoped>\n",
       "    .dataframe tbody tr th:only-of-type {\n",
       "        vertical-align: middle;\n",
       "    }\n",
       "\n",
       "    .dataframe tbody tr th {\n",
       "        vertical-align: top;\n",
       "    }\n",
       "\n",
       "    .dataframe thead th {\n",
       "        text-align: right;\n",
       "    }\n",
       "</style>\n",
       "<table border=\"1\" class=\"dataframe\">\n",
       "  <thead>\n",
       "    <tr style=\"text-align: right;\">\n",
       "      <th></th>\n",
       "      <th>product_code</th>\n",
       "      <th>product_description</th>\n",
       "      <th>product_group</th>\n",
       "      <th>sales_date</th>\n",
       "      <th>price</th>\n",
       "      <th>sales_quantity</th>\n",
       "      <th>unit</th>\n",
       "      <th>sales_amount</th>\n",
       "    </tr>\n",
       "  </thead>\n",
       "  <tbody>\n",
       "    <tr>\n",
       "      <th>295</th>\n",
       "      <td>1203</td>\n",
       "      <td>butter-0.25</td>\n",
       "      <td>dairy</td>\n",
       "      <td>2021-11-26</td>\n",
       "      <td>11.9</td>\n",
       "      <td>31</td>\n",
       "      <td>pcs</td>\n",
       "      <td>7.75</td>\n",
       "    </tr>\n",
       "    <tr>\n",
       "      <th>296</th>\n",
       "      <td>1203</td>\n",
       "      <td>butter-0.25</td>\n",
       "      <td>dairy</td>\n",
       "      <td>2021-11-27</td>\n",
       "      <td>11.9</td>\n",
       "      <td>29</td>\n",
       "      <td>pcs</td>\n",
       "      <td>7.25</td>\n",
       "    </tr>\n",
       "    <tr>\n",
       "      <th>297</th>\n",
       "      <td>1203</td>\n",
       "      <td>butter-0.25</td>\n",
       "      <td>dairy</td>\n",
       "      <td>2021-11-28</td>\n",
       "      <td>11.9</td>\n",
       "      <td>37</td>\n",
       "      <td>pcs</td>\n",
       "      <td>9.25</td>\n",
       "    </tr>\n",
       "    <tr>\n",
       "      <th>298</th>\n",
       "      <td>1203</td>\n",
       "      <td>butter-0.25</td>\n",
       "      <td>dairy</td>\n",
       "      <td>2021-11-29</td>\n",
       "      <td>11.9</td>\n",
       "      <td>34</td>\n",
       "      <td>pcs</td>\n",
       "      <td>8.50</td>\n",
       "    </tr>\n",
       "    <tr>\n",
       "      <th>299</th>\n",
       "      <td>1203</td>\n",
       "      <td>butter-0.25</td>\n",
       "      <td>dairy</td>\n",
       "      <td>2021-11-30</td>\n",
       "      <td>11.9</td>\n",
       "      <td>36</td>\n",
       "      <td>pcs</td>\n",
       "      <td>9.00</td>\n",
       "    </tr>\n",
       "  </tbody>\n",
       "</table>\n",
       "</div>"
      ],
      "text/plain": [
       "     product_code product_description product_group  sales_date  price  \\\n",
       "295          1203         butter-0.25         dairy  2021-11-26   11.9   \n",
       "296          1203         butter-0.25         dairy  2021-11-27   11.9   \n",
       "297          1203         butter-0.25         dairy  2021-11-28   11.9   \n",
       "298          1203         butter-0.25         dairy  2021-11-29   11.9   \n",
       "299          1203         butter-0.25         dairy  2021-11-30   11.9   \n",
       "\n",
       "     sales_quantity unit  sales_amount  \n",
       "295              31  pcs          7.75  \n",
       "296              29  pcs          7.25  \n",
       "297              37  pcs          9.25  \n",
       "298              34  pcs          8.50  \n",
       "299              36  pcs          9.00  "
      ]
     },
     "execution_count": 15,
     "metadata": {},
     "output_type": "execute_result"
    }
   ],
   "source": [
    "data.tail()"
   ]
  },
  {
   "cell_type": "code",
   "execution_count": null,
   "id": "b492f930",
   "metadata": {},
   "outputs": [],
   "source": []
  }
 ],
 "metadata": {
  "kernelspec": {
   "display_name": "Python 3 (ipykernel)",
   "language": "python",
   "name": "python3"
  },
  "language_info": {
   "codemirror_mode": {
    "name": "ipython",
    "version": 3
   },
   "file_extension": ".py",
   "mimetype": "text/x-python",
   "name": "python",
   "nbconvert_exporter": "python",
   "pygments_lexer": "ipython3",
   "version": "3.7.0rc1"
  }
 },
 "nbformat": 4,
 "nbformat_minor": 5
}
